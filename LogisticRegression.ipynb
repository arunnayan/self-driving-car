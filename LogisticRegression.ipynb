{
 "cells": [
  {
   "cell_type": "code",
   "execution_count": 1,
   "metadata": {},
   "outputs": [
    {
     "data": {
      "image/png": "[encoded data removed]",
      "text/plain": [
       "<matplotlib.figure.Figure at 0x106678588>"
      ]
     },
     "metadata": {},
     "output_type": "display_data"
    },
    {
     "data": {
      "image/png": "[encoded data removed]",
      "text/plain": [
       "<matplotlib.figure.Figure at 0x10525aef0>"
      ]
     },
     "metadata": {},
     "output_type": "display_data"
    }
   ],
   "source": [
    "import numpy as np\n",
    "import matplotlib.pyplot as plt\n",
    "%matplotlib inline\n",
    "\n",
    "def draw(x1,x2):\n",
    "    ln = plt.plot(x1,x2)\n",
    "\n",
    "def sigmoid(score):\n",
    "    return (1 / (1 + np.exp(-score)))\n",
    "def calculate_error(line_parameters,points,y):\n",
    "    m = points.shape[0]\n",
    "    p = sigmoid(points * line_parameters)\n",
    "    cross_etropy = -(1/m)*(np.log(p).T * y + np.log(1-p).T*(1-y))\n",
    "    return cross_etropy\n",
    "\n",
    "def gradient_descent(line_parameters, points, y, alpha):\n",
    "    n=points.shape[0]\n",
    "    for i in range(2000):\n",
    "        p = sigmoid(points * line_parameters)\n",
    "        gradient= points.T*(p-y)*(alpha/n)\n",
    "        line_parameters = line_parameters - gradient\n",
    "        \n",
    "        w1 =line_parameters.item(0)\n",
    "        w2 =line_parameters.item(1)\n",
    "        b =line_parameters.item(2)\n",
    "        \n",
    "        x1=np.array([points[:,0].min(), points[:,0].max()])\n",
    "        x2= -b/w2 + (x1*(-w1/w2))\n",
    "    draw(x1,x2) \n",
    "        \n",
    "        \n",
    "\n",
    "n_pts = 100\n",
    "np.random.seed(0)\n",
    "\n",
    "top_region = np.array([np.random.normal(10,2,n_pts), np.random.normal(12,2,n_pts)]).T\n",
    "bottom_region = np.array([np.random.normal(5,2,n_pts), np.random.normal(2,2,n_pts)]).T\n",
    "\n",
    "_, ax = plt.subplots(figsize = (4,4))\n",
    "ax.scatter(top_region[:,0],top_region[:,1], color='r')\n",
    "ax.scatter(bottom_region[:,0],bottom_region[:,1], color='b')\n",
    "plt.show()\n",
    "\n",
    "# Apply Sigmoid function every points\n",
    "# W1x1 + W2x2 +b\n",
    "# in this case b=1\n",
    "\n",
    "n_pts = 10\n",
    "np.random.seed(0)\n",
    "bias =np.ones(n_pts)\n",
    "\n",
    "top_region = np.array([np.random.normal(10,2,n_pts), np.random.normal(12,2,n_pts),bias]).T\n",
    "bottom_region = np.array([np.random.normal(5,2,n_pts), np.random.normal(2,2,n_pts),bias]).T\n",
    "\n",
    "all_points = np.vstack((top_region,bottom_region))\n",
    "\n",
    "w1 = -0.2\n",
    "w2 = -0.35\n",
    "b = 3.5\n",
    "\n",
    "line_parameters = np.matrix(np.zeros(3)).T\n",
    "\n",
    "#x1 = bottom_region[:,0].min()\n",
    "# w1x1+w2x2+b = 0\n",
    "# x2 = -b / w2 +x1 *(-w1/w2)\n",
    "#x2 = -b / w2 +x1 *(-w1/w2)\n",
    "y = np.array([np.zeros(n_pts), np.ones(n_pts)]).reshape(n_pts*2, 1)\n",
    "\n",
    "\n",
    "\n",
    "_, ax = plt.subplots(figsize = (4,4))\n",
    "ax.scatter(top_region[:,0],top_region[:,1], color='r')\n",
    "ax.scatter(bottom_region[:,0],bottom_region[:,1], color='b')\n",
    "ax.scatter(bottom_region[:,0],bottom_region[:,1], color='b')\n",
    "gradient_descent(line_parameters, all_points, y , 0.06)\n",
    "plt.show()\n"
   ]
  },
  {
   "cell_type": "code",
   "execution_count": null,
   "metadata": {},
   "outputs": [],
   "source": []
  }
 ],
 "metadata": {
  "kernelspec": {
   "display_name": "Python 3",
   "language": "python",
   "name": "python3"
  },
  "language_info": {
   "codemirror_mode": {
    "name": "ipython",
    "version": 3
   },
   "file_extension": ".py",
   "mimetype": "text/x-python",
   "name": "python",
   "nbconvert_exporter": "python",
   "pygments_lexer": "ipython3",
   "version": "3.6.4"
  }
 },
 "nbformat": 4,
 "nbformat_minor": 2
}
